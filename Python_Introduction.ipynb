{
  "nbformat": 4,
  "nbformat_minor": 0,
  "metadata": {
    "colab": {
      "name": "Respostas Exercícios Python - Gabriel Calheiros.ipynb",
      "provenance": [],
      "collapsed_sections": [],
      "authorship_tag": "ABX9TyMl9G11KpO/Os7pAMZEbbq/",
      "include_colab_link": true
    },
    "kernelspec": {
      "name": "python3",
      "display_name": "Python 3"
    },
    "language_info": {
      "name": "python"
    }
  },
  "cells": [
    {
      "cell_type": "markdown",
      "metadata": {
        "id": "view-in-github",
        "colab_type": "text"
      },
      "source": [
        "<a href=\"https://colab.research.google.com/github/GabrielCdev/Python_Introduction/blob/main/Python_Introduction.ipynb\" target=\"_parent\"><img src=\"https://colab.research.google.com/assets/colab-badge.svg\" alt=\"Open In Colab\"/></a>"
      ]
    },
    {
      "cell_type": "markdown",
      "source": [
        "#Introdução à linguagem Python\n"
      ],
      "metadata": {
        "id": "34UOCZkGI-dg"
      }
    },
    {
      "cell_type": "markdown",
      "source": [
        "###Exercício 01:"
      ],
      "metadata": {
        "id": "bEShwBLkJFst"
      }
    },
    {
      "cell_type": "markdown",
      "source": [
        "Braian é um professor legal e quer evitar que o aluno João seja reprovado. João tirou 8,66, 5,35, 5 e 1, respectivamente, nas provas P1, P2, P3 e P4. Para isso, ele pode calcular a nota final usando a média aritmética (M.A.), média geométrica (M.G.) ou média harmônica (M.H.) \n",
        "Qual dessas médias dá a maior nota para João? E qual das médias dá a pior nota?"
      ],
      "metadata": {
        "id": "xyW1EyHFJPYN"
      }
    },
    {
      "cell_type": "code",
      "execution_count": null,
      "metadata": {
        "colab": {
          "base_uri": "https://localhost:8080/"
        },
        "id": "IF7251JKIxqa",
        "outputId": "f9771153-06c2-483f-ac77-29dbdd404c7c"
      },
      "outputs": [
        {
          "output_type": "stream",
          "name": "stdout",
          "text": [
            "Média aritmética: 5.00\n",
            "Média geométrica: 3.90\n",
            "Média harmônica: 2.66\n",
            "\n",
            "A média aritmética é a maior nota!\n",
            "A média harmônica é a menor nota!\n"
          ]
        }
      ],
      "source": [
        "p1, p2, p3, p4 = 8.66, 5.35, 5, 1\n",
        "\n",
        "media_aritmetica = (p1+p2+p3+p4)/4\n",
        "media_geometrica = (p1*p2*p3*p4)**(1/4)\n",
        "media_harmonica = 4/(1/p1 + 1/p2 + 1/p3 + 1/p4)\n",
        "\n",
        "print(\"Média aritmética: {:.2f}\".format(media_aritmetica))\n",
        "print(\"Média geométrica: {:.2f}\".format(media_geometrica))\n",
        "print(\"Média harmônica: {:.2f}\".format(media_harmonica))\n",
        "\n",
        "# Maior\n",
        "if media_aritmetica > media_geometrica and media_aritmetica > media_harmonica:\n",
        "  print(\"\\nA média aritmética é a maior nota!\")\n",
        "elif media_geometrica > media_harmonica:\n",
        "  print(\"\\nA média geométrica é a maior nota!\")\n",
        "else:\n",
        "    print(\"\\nA média harmônica é a maior nota!\")\n",
        "\n",
        "# Menor\n",
        "if media_aritmetica < media_geometrica and media_aritmetica < media_harmonica:\n",
        "  print(\"A média aritmética é a menor nota!\")\n",
        "elif media_geometrica < media_harmonica:\n",
        "  print(\"A média geométrica é a menor nota!\")\n",
        "else:\n",
        "    print(\"A média harmônica é a menor nota!\")"
      ]
    },
    {
      "cell_type": "markdown",
      "source": [
        "###Exercício 02:"
      ],
      "metadata": {
        "id": "zxA-XkL0N9Ba"
      }
    },
    {
      "cell_type": "markdown",
      "source": [
        "Josefa deseja fazer compras na China. Ela quer comprar um celular de USD 299,99, uma chaleira de USD 23,87, um gnomo de jardim de USD 66,66 e 6 adesivos de unicórnio de USD 1,42 cada um. O frete para Salvador é USD 12,34. Considerando o dólar a R$ 5,28 (:/), responda:\n",
        "\n",
        "a. Qual o preço final da compra em reais? Lembre-se que o valor do IOF é de 6,28%.\n",
        "\n",
        "b. Quanto ela pagará apenas de IOF?"
      ],
      "metadata": {
        "id": "VmaAsf1lN_cS"
      }
    },
    {
      "cell_type": "code",
      "source": [
        "# Letra A\n",
        "celular = 299.99\n",
        "chaleira = 23.87\n",
        "gnomo_jardim = 66.66\n",
        "adesivos = (6*1.42)\n",
        "\n",
        "frete = 12.34\n",
        "\n",
        "dolar = 5.28\n",
        "iof = (6.28/100)\n",
        "\n",
        "# Preço final\n",
        "valor_compra = celular + chaleira + gnomo_jardim + adesivos\n",
        "compra_frete = valor_compra + frete\n",
        "\n",
        "print(\"O valor da compra em USD foi de US$ {:.2f}\".format(compra_frete))\n",
        "\n",
        "conversao_valor = compra_frete * dolar\n",
        "print(\"O valor da compra em R$ é R$ {:.2f}\".format(conversao_valor))\n",
        "\n",
        "preco_final = conversao_valor * (1+iof)\n",
        "print(\"O preço final da compra foi de R$ {:.2f}\".format(preco_final))"
      ],
      "metadata": {
        "colab": {
          "base_uri": "https://localhost:8080/"
        },
        "id": "6yKGWHpxN6xh",
        "outputId": "0e72eefd-4afb-453f-f904-b944c3bb203e"
      },
      "execution_count": null,
      "outputs": [
        {
          "output_type": "stream",
          "name": "stdout",
          "text": [
            "O valor da compra em USD foi de US$ 411.38\n",
            "O valor da compra em R$ é R$ 2172.09\n",
            "O preço final da compra foi de R$ 2308.49\n"
          ]
        }
      ]
    },
    {
      "cell_type": "code",
      "source": [
        "# Letra B\n",
        "valor_iof = conversao_valor * iof\n",
        "\n",
        "print(\"O valor pago apenas em IOF foi de R${:.2f}\".format(valor_iof))\n"
      ],
      "metadata": {
        "colab": {
          "base_uri": "https://localhost:8080/"
        },
        "id": "s0YWB7VkN7sH",
        "outputId": "7a4e9797-db23-40d9-c011-b4c9a5ece15d"
      },
      "execution_count": null,
      "outputs": [
        {
          "output_type": "stream",
          "name": "stdout",
          "text": [
            "O valor pago apenas em IOF foi de R$136.41\n"
          ]
        }
      ]
    },
    {
      "cell_type": "markdown",
      "source": [
        "###Exercício 3:\n",
        "\n",
        "\n",
        "\n",
        "1.   Dada a frase “Python é muito legal.”, use fatiamento para dividir a frase e armazenar cada palavra em uma variável diferente.\n",
        "2. Agora que conhecemos atribuição múltipla e o método str.split()\n",
        "refaça o exercício anterior usando essas técnicas.\n",
        "3. Qual o tamanho dessa frase?\n",
        "4. Use fatiamento (mais especificamente o passo do fatiamento) para\n",
        "inverter a string “Python”."
      ],
      "metadata": {
        "id": "zEcRKhsXVQJi"
      }
    },
    {
      "cell_type": "code",
      "source": [
        "# Questão 1\n",
        "frase = \"Python é muito legal.\"\n",
        "print(frase)\n",
        "\n",
        "palavra1 = frase[0:6]\n",
        "palavra2 = frase[7]\n",
        "palavra3 = frase[9:14]\n",
        "palavra4 = frase[15:20]\n",
        "\n",
        "print(\"\\nPalavra 1: {}\".format(palavra1))\n",
        "print(\"\\nPalavra 2: {}\".format(palavra2))\n",
        "print(\"\\nPalavra 3: {}\".format(palavra3))\n",
        "print(\"\\nPalavra 4: {}\".format(palavra4))"
      ],
      "metadata": {
        "colab": {
          "base_uri": "https://localhost:8080/"
        },
        "id": "equSlywSVRBn",
        "outputId": "8dac8ddb-3355-4faf-905b-9ee8af3bbb3f"
      },
      "execution_count": null,
      "outputs": [
        {
          "output_type": "stream",
          "name": "stdout",
          "text": [
            "Python é muito legal.\n",
            "\n",
            "Palavra 1: Python\n",
            "\n",
            "Palavra 2: é\n",
            "\n",
            "Palavra 3: muito\n",
            "\n",
            "Palavra 4: legal\n"
          ]
        }
      ]
    },
    {
      "cell_type": "code",
      "source": [
        "# Questão 2\n",
        "frase2 = \"Python é muito legal.\"\n",
        "\n",
        "print(frase2.split())\n",
        "\n",
        "p1, p2, p3, p4 = frase2.split()\n",
        "print(p1, '\\n', p2, '\\n', p3, '\\n', p4)"
      ],
      "metadata": {
        "id": "jxgSLkcQWswI",
        "colab": {
          "base_uri": "https://localhost:8080/"
        },
        "outputId": "55e1bb6f-eb37-48e5-c69d-4c286e1eec86"
      },
      "execution_count": null,
      "outputs": [
        {
          "output_type": "stream",
          "name": "stdout",
          "text": [
            "['Python', 'é', 'muito', 'legal.']\n",
            "Python \n",
            " é \n",
            " muito \n",
            " legal.\n"
          ]
        }
      ]
    },
    {
      "cell_type": "code",
      "source": [
        "# Questão 3\n",
        "print(\"O tamanho da frase é:\", len(frase))"
      ],
      "metadata": {
        "colab": {
          "base_uri": "https://localhost:8080/"
        },
        "id": "dFye8XXfWyYc",
        "outputId": "8eae8652-e1e4-411f-8a8b-d2391e0a8672"
      },
      "execution_count": null,
      "outputs": [
        {
          "output_type": "stream",
          "name": "stdout",
          "text": [
            "O tamanho da frase é: 21\n"
          ]
        }
      ]
    },
    {
      "cell_type": "code",
      "source": [
        "# Questão 4\n",
        "palavra = \"Python\"\n",
        "inverter = palavra[::-1]\n",
        "\n",
        "print(inverter)"
      ],
      "metadata": {
        "colab": {
          "base_uri": "https://localhost:8080/"
        },
        "id": "bmHK7C-fXfc5",
        "outputId": "a6237fa5-9582-4f9b-94ae-94181a8adb31"
      },
      "execution_count": null,
      "outputs": [
        {
          "output_type": "stream",
          "name": "stdout",
          "text": [
            "nohtyP\n"
          ]
        }
      ]
    },
    {
      "cell_type": "markdown",
      "source": [
        "###Exercício 4"
      ],
      "metadata": {
        "id": "KLe1BCLOYTkN"
      }
    },
    {
      "cell_type": "markdown",
      "source": [
        "Dada a lista = [12, -2, 4, 8, 29, 45, 78, 36, -17, 2, 12, 8, -52] faça um programa que:\n",
        "\n",
        "1. imprima o maior e o menor elemento;\n",
        "2. imprima a lista invertida;\n",
        "3. imprima os 5 maiores elementos, com exceção do maior de todos;\n",
        "4. imprima a média dos elementos (pesquisem);\n",
        "5. remova o elemento de menor valor;\n",
        "6. insira um elemento de valor -500 na terceira posição e outro de valor 500 no final da lista.\n",
        "\n"
      ],
      "metadata": {
        "id": "dWZ1W29vYU8y"
      }
    },
    {
      "cell_type": "code",
      "source": [
        "lista = [12, -2, 4, 8, 29, 45, 78, 36, -17, 2, 12, 8, -52]"
      ],
      "metadata": {
        "id": "IOARgw8qZllo"
      },
      "execution_count": null,
      "outputs": []
    },
    {
      "cell_type": "code",
      "source": [
        "# Questão 1\n",
        "print(\"Menor elemento:\", min(lista))\n",
        "print(\"Maior elemento:\", max(lista))"
      ],
      "metadata": {
        "colab": {
          "base_uri": "https://localhost:8080/"
        },
        "id": "FOJc-wfyZwm7",
        "outputId": "3b8e54a2-436a-4c44-ccbd-61e52504c3b8"
      },
      "execution_count": null,
      "outputs": [
        {
          "output_type": "stream",
          "name": "stdout",
          "text": [
            "Menor elemento: -52\n",
            "Maior elemento: 78\n"
          ]
        }
      ]
    },
    {
      "cell_type": "code",
      "source": [
        "# Questão 2\n",
        "inverte_lista = lista.copy()\n",
        "inverte_lista.sort()\n",
        "\n",
        "print(\"Lista ordenada:\", inverte_lista)\n",
        "print(\"Lista invertida:\", inverte_lista[::-1])"
      ],
      "metadata": {
        "colab": {
          "base_uri": "https://localhost:8080/"
        },
        "id": "vsXeYyl0Z7TY",
        "outputId": "e15ba8c1-355e-4b04-cb1f-8913e934062a"
      },
      "execution_count": null,
      "outputs": [
        {
          "output_type": "stream",
          "name": "stdout",
          "text": [
            "Lista ordenada: [-52, -17, -2, 2, 4, 8, 8, 12, 12, 29, 36, 45, 78]\n",
            "Lista invertida: [78, 45, 36, 29, 12, 12, 8, 8, 4, 2, -2, -17, -52]\n"
          ]
        }
      ]
    },
    {
      "cell_type": "code",
      "source": [
        "# Questão 3\n",
        "ordena_lista = lista.copy()\n",
        "ordena_lista.sort()\n",
        "\n",
        "print(\"Os 5 maiores elementos com exceção do último:\", ordena_lista[-6:-1])"
      ],
      "metadata": {
        "colab": {
          "base_uri": "https://localhost:8080/"
        },
        "id": "SNd01RmAaY2G",
        "outputId": "8147f35d-b639-479e-db2d-d3461a63524b"
      },
      "execution_count": null,
      "outputs": [
        {
          "output_type": "stream",
          "name": "stdout",
          "text": [
            "Os 5 maiores elementos com exceção do último: [12, 12, 29, 36, 45]\n"
          ]
        }
      ]
    },
    {
      "cell_type": "code",
      "source": [
        "# Questão 4\n",
        "media = sum(lista)/len(lista)\n",
        "\n",
        "print(\"Média = {:.2f}\".format(media))"
      ],
      "metadata": {
        "colab": {
          "base_uri": "https://localhost:8080/"
        },
        "id": "NRWESFdLaxJf",
        "outputId": "5d145fd1-acba-4980-a6a3-6c30bdfe68a7"
      },
      "execution_count": null,
      "outputs": [
        {
          "output_type": "stream",
          "name": "stdout",
          "text": [
            "Média = 12.54\n"
          ]
        }
      ]
    },
    {
      "cell_type": "code",
      "source": [
        "# Questão 5\n",
        "menor_valor = lista.copy()\n",
        "menor_valor.sort()\n",
        "print(\"Lista:\", menor_valor)\n",
        "\n",
        "menor_valor.remove(min(menor_valor))\n",
        "print(\"Lista após remoção:\", menor_valor)"
      ],
      "metadata": {
        "colab": {
          "base_uri": "https://localhost:8080/"
        },
        "id": "nX4kgrtebFMY",
        "outputId": "6b0ab61d-e1a9-46b7-978e-1bc7fbfb5020"
      },
      "execution_count": null,
      "outputs": [
        {
          "output_type": "stream",
          "name": "stdout",
          "text": [
            "Lista: [-52, -17, -2, 2, 4, 8, 8, 12, 12, 29, 36, 45, 78]\n",
            "Lista após remoção: [-17, -2, 2, 4, 8, 8, 12, 12, 29, 36, 45, 78]\n"
          ]
        }
      ]
    },
    {
      "cell_type": "code",
      "source": [
        "# Questão 6\n",
        "adicao_lista = lista.copy()\n",
        "adicao_lista.sort()\n",
        "\n",
        "print(\"Lista:\", adicao_lista)\n",
        "\n",
        "adicao_lista.insert(2, -500)\n",
        "print(\"Lista com adição na 3ª posição:\", adicao_lista)\n",
        "\n",
        "adicao_lista.append(500)\n",
        "print(\"Lista com adição na última posição:\", adicao_lista)"
      ],
      "metadata": {
        "colab": {
          "base_uri": "https://localhost:8080/"
        },
        "id": "ynEkYxH_bxa0",
        "outputId": "e5e5e9dc-db6c-48ed-e31e-8ad54aac6bc5"
      },
      "execution_count": null,
      "outputs": [
        {
          "output_type": "stream",
          "name": "stdout",
          "text": [
            "Lista: [-52, -17, -2, 2, 4, 8, 8, 12, 12, 29, 36, 45, 78]\n",
            "Lista com adição na 3ª posição: [-52, -17, -500, -2, 2, 4, 8, 8, 12, 12, 29, 36, 45, 78]\n",
            "Lista com adição na última posição: [-52, -17, -500, -2, 2, 4, 8, 8, 12, 12, 29, 36, 45, 78, 500]\n"
          ]
        }
      ]
    },
    {
      "cell_type": "markdown",
      "source": [
        "###Exercício 5"
      ],
      "metadata": {
        "id": "DQH6jDxPcn4Z"
      }
    },
    {
      "cell_type": "markdown",
      "source": [
        "1. Faça um programa utilizando um dict que leia dados de entrada do usuário. O usuário deve entrar com os dados de uma pessoa como nome e cidade onde mora (fique livre para acrescentar outros). Após isso, você deve imprimir os dados como o exemplo abaixo:\n",
        "   \n",
        "\n",
        "*   nome: João\n",
        "*   cidade: São Paulo"
      ],
      "metadata": {
        "id": "Zsxa5GQVcvfN"
      }
    },
    {
      "cell_type": "code",
      "source": [
        "dictionary = {}"
      ],
      "metadata": {
        "id": "FMan4lWLXwaB"
      },
      "execution_count": null,
      "outputs": []
    },
    {
      "cell_type": "code",
      "source": [
        "key = input(\"Digite uma chave: \")\n",
        "value = input(\"Digite um valor: \")\n",
        "\n",
        "dictionary[key] = value\n",
        "\n",
        "print(dictionary)"
      ],
      "metadata": {
        "id": "91CcyEnycxPE",
        "colab": {
          "base_uri": "https://localhost:8080/"
        },
        "outputId": "eaac7ee4-76b6-495c-ab91-a0763e9b48ed"
      },
      "execution_count": null,
      "outputs": [
        {
          "output_type": "stream",
          "name": "stdout",
          "text": [
            "Digite uma chave: cidade\n",
            "Digite um valor: São Paulo\n",
            "{'nome': 'João', 'cidade': 'São Paulo'}\n"
          ]
        }
      ]
    },
    {
      "cell_type": "markdown",
      "source": [
        "Utilize o exercício anterior e adicione a pessoa em uma lista.\n",
        "Em seguida, cadastre uma nova pessoa nessa lista. Por fim,\n",
        "você deve imprimir todos os dados de cada pessoa cadastrada."
      ],
      "metadata": {
        "id": "VzvzlISOldED"
      }
    },
    {
      "cell_type": "code",
      "source": [
        "lista2 = []"
      ],
      "metadata": {
        "id": "38ndvk9GpQ-i"
      },
      "execution_count": null,
      "outputs": []
    },
    {
      "cell_type": "code",
      "source": [
        "lista2.append(dictionary)\n",
        "\n",
        "print(lista2)"
      ],
      "metadata": {
        "colab": {
          "base_uri": "https://localhost:8080/"
        },
        "id": "mVOGUFP3ldQH",
        "outputId": "246afd9b-1704-4081-cc01-eebdb649586a"
      },
      "execution_count": null,
      "outputs": [
        {
          "output_type": "stream",
          "name": "stdout",
          "text": [
            "[{'nome': 'João', 'cidade': 'São Paulo'}]\n"
          ]
        }
      ]
    },
    {
      "cell_type": "code",
      "source": [
        "lista2.append({\"nome\": \"Gabriel\", \"cidade\": \"Salvador\"})\n",
        "\n",
        "print(lista2)"
      ],
      "metadata": {
        "colab": {
          "base_uri": "https://localhost:8080/"
        },
        "id": "xJHenQ9_qIjz",
        "outputId": "c5e7f74e-893c-4866-c8c2-da9bf25ea25c"
      },
      "execution_count": null,
      "outputs": [
        {
          "output_type": "stream",
          "name": "stdout",
          "text": [
            "[{'nome': 'João', 'cidade': 'São Paulo'}, {'nome': 'Gabriel', 'cidade': 'Salvador'}]\n"
          ]
        }
      ]
    },
    {
      "cell_type": "markdown",
      "source": [
        "### Exercício 6"
      ],
      "metadata": {
        "id": "JAswnPsHl07w"
      }
    },
    {
      "cell_type": "markdown",
      "source": [
        "Faça um programa que, dada a idade, peso e horas de sono nas últimas 24h de uma pessoa, determine se ela pode ou não doar sangue. Os requisitos são obrigatórios para doação são:\n",
        "\n",
        "\n",
        "*   Ter entre 16 e 69 anos;\n",
        "*   Pesar mais de 50kg;\n",
        "*   Estar descansado ( 6 horas de sono nas últimas 24 horas)."
      ],
      "metadata": {
        "id": "2S1GoT0Pl2-E"
      }
    },
    {
      "cell_type": "code",
      "source": [
        "idade = int(input(\"Informe sua idade: \"))\n",
        "peso = int(input(\"Informe o seu peso: \"))\n",
        "horas_sono = int(input(\"Informe quantas horas você dormiu: \"))\n",
        "\n",
        "if idade >= 16 and idade <= 69 and peso > 50 and horas_sono >= 6:\n",
        "  print(\"\\nVocê pode doar sangue!\")\n",
        "else:\n",
        "  print(\"\\nVocê não pode doar sangue!\")"
      ],
      "metadata": {
        "colab": {
          "base_uri": "https://localhost:8080/"
        },
        "id": "5IU_UvIkl6Xn",
        "outputId": "23cd113c-889c-445b-fa5a-b48c9b690076"
      },
      "execution_count": null,
      "outputs": [
        {
          "output_type": "stream",
          "name": "stdout",
          "text": [
            "Informe sua idade: 16\n",
            "Informe o seu peso: 51\n",
            "Informe quantas horas você dormiu: 6\n",
            "\n",
            "Você pode doar sangue!\n"
          ]
        }
      ]
    },
    {
      "cell_type": "markdown",
      "source": [
        "Determine, dados os coeficientes de uma equação de segundo grau, se esta possui duas raízes, uma ou se não possui.\n",
        "\n",
        "Dica:                                                se delta (d = b**2 - 4ac) é maior que 0, possui duas raízes reais; se delta é 0, possui uma raíz, caso delta seja menor que 0, não possui raiz real.\n"
      ],
      "metadata": {
        "id": "JAZO8UcImASw"
      }
    },
    {
      "cell_type": "code",
      "source": [
        "a = int(input(\"Informe o valor do 1º coeficiente: \"))\n",
        "b = int(input(\"Informe o valor do 2º coeficiente: \"))\n",
        "c = int(input(\"Informe o valor do 3º coeficiente: \"))\n",
        "\n",
        "delta = (b**2) - (4*a*c)\n",
        "print(\"Delta =\", delta)\n",
        "\n",
        "if (delta > 0):\n",
        "  print(\"\\nEssa equação do segundo grau possui DUAS RAÍZES REAIS!\")\n",
        "elif (delta == 0):\n",
        "  print(\"\\nEssa equação do segundo grau possui APENAS UMA RAIZ REAL!\")\n",
        "else:\n",
        "  print(\"\\nEssa equação do segundo grau NÃO POSSUI NENHUMA RAIZ REAL!\")"
      ],
      "metadata": {
        "colab": {
          "base_uri": "https://localhost:8080/"
        },
        "id": "8WsjCC0amB23",
        "outputId": "574cac53-16e4-4f85-8738-9d68324da031"
      },
      "execution_count": null,
      "outputs": [
        {
          "output_type": "stream",
          "name": "stdout",
          "text": [
            "Informe o valor do 1º coeficiente: 1\n",
            "Informe o valor do 2º coeficiente: 4\n",
            "Informe o valor do 3º coeficiente: -3\n",
            "Delta = 28\n",
            "\n",
            "Essa equação do segundo grau possui DUAS RAÍZES REAIS!\n"
          ]
        }
      ]
    },
    {
      "cell_type": "markdown",
      "source": [
        "###Exercício 7"
      ],
      "metadata": {
        "id": "zKGOaTRArDng"
      }
    },
    {
      "cell_type": "markdown",
      "source": [
        "Solicite que o usuário informe um valor N inteiro e apresente a tabuada de N. N deve ser um valor entre 0 e 10 (incluso), se o valor informado estiver fora destes limites,  informar ao usuário."
      ],
      "metadata": {
        "id": "1dT9phm7rFCO"
      }
    },
    {
      "cell_type": "code",
      "source": [
        "valor = int(input(\"Informe um valor inteiro: \"))\n",
        "\n",
        "if valor >= 0 and valor <= 10:\n",
        "  for i in range(1,11):\n",
        "    print(\"{} X {} = {}\".format(valor, i, valor*i))\n",
        "else:\n",
        "  print(\"Valor fora do range!\")"
      ],
      "metadata": {
        "colab": {
          "base_uri": "https://localhost:8080/"
        },
        "id": "dMbsoPRorMRX",
        "outputId": "d38221e1-6fcf-4d35-b214-ce173d7640a4"
      },
      "execution_count": null,
      "outputs": [
        {
          "output_type": "stream",
          "name": "stdout",
          "text": [
            "Informe um valor inteiro: 4\n",
            "4 X 1 = 4\n",
            "4 X 2 = 8\n",
            "4 X 3 = 12\n",
            "4 X 4 = 16\n",
            "4 X 5 = 20\n",
            "4 X 6 = 24\n",
            "4 X 7 = 28\n",
            "4 X 8 = 32\n",
            "4 X 9 = 36\n",
            "4 X 10 = 40\n"
          ]
        }
      ]
    },
    {
      "cell_type": "markdown",
      "source": [
        "Dada a lista [2, 8, 3, 13, 7, 24, “str”, [1, 2, 11], 8, True], exiba todos os números primos existentes em seu conteúdo em ordem crescente (incluindo a lista interna)."
      ],
      "metadata": {
        "id": "P_ytqVIGrUD5"
      }
    },
    {
      "cell_type": "code",
      "source": [
        "lista3 = [2, 8, 3, 13, 7, 24, \"str\", [1, 2, 11], 8, True]\n",
        "primos = []"
      ],
      "metadata": {
        "id": "40Ke1-k7rUyF"
      },
      "execution_count": null,
      "outputs": []
    },
    {
      "cell_type": "code",
      "source": [
        "for el in lista3:\n",
        "  if type(el) == list:\n",
        "    for subel in el:\n",
        "      if subel == 2 or subel % 2 != 0 and subel % 3 != 0 and subel != 1:\n",
        "        primos.append(subel)\n",
        "\n",
        "  if type(el) == int:\n",
        "    if el == 2 or el % 2 != 0 and el % 3 != 0 and el != 1:\n",
        "      primos.append(el)\n",
        "\n",
        "print(primos)"
      ],
      "metadata": {
        "colab": {
          "base_uri": "https://localhost:8080/"
        },
        "id": "Vb6DAfmqsBM0",
        "outputId": "97809026-cd81-4a22-867c-a02ff4a771d5"
      },
      "execution_count": null,
      "outputs": [
        {
          "output_type": "stream",
          "name": "stdout",
          "text": [
            "[2, 13, 7, 2, 11]\n"
          ]
        }
      ]
    },
    {
      "cell_type": "code",
      "source": [
        "primos.sort()\n",
        "\n",
        "print(primos)"
      ],
      "metadata": {
        "colab": {
          "base_uri": "https://localhost:8080/"
        },
        "id": "pIZbrmfc97Ce",
        "outputId": "203a2ef6-9a33-4345-86ce-522407d4f1bc"
      },
      "execution_count": null,
      "outputs": [
        {
          "output_type": "stream",
          "name": "stdout",
          "text": [
            "[2, 2, 7, 11, 13]\n"
          ]
        }
      ]
    },
    {
      "cell_type": "markdown",
      "source": [
        "###Exercício 8"
      ],
      "metadata": {
        "id": "MaqBgwpdrW2r"
      }
    },
    {
      "cell_type": "markdown",
      "source": [
        "Escreva um algoritmo que receba dados cadastrais de pessoas (nome, idade e sexo). Ao fim de cada cadastro, o usuário deve ser questionado se deseja realizar um novo cadastro. Quando não houverem mais cadastros a serem realizados, exibir os cadastros realizados e o percentual de homens e mulheres."
      ],
      "metadata": {
        "id": "5odBFZiErXgh"
      }
    },
    {
      "cell_type": "code",
      "source": [
        "cadastro = []"
      ],
      "metadata": {
        "id": "WhqES6gVDj78"
      },
      "execution_count": null,
      "outputs": []
    },
    {
      "cell_type": "code",
      "source": [
        "question = input(\"Cadastrar usuário? (S/N) \")\n",
        "\n",
        "while question.upper() == \"S\":\n",
        "    nome = input(\"\\nInforme seu nome: \")\n",
        "    idade = int(input(\"Informe a sua idade: \"))\n",
        "    sexo = input(\"Informe o seu sexo: \")\n",
        "\n",
        "    cadastro.append([nome, idade, sexo])\n",
        "\n",
        "    question = input(\"\\nDeseja cadastrar um novo usuário? (S/N) \")\n",
        "else:\n",
        "  print(\"Cadastro finalizado!\")\n",
        "\n",
        "print(cadastro)"
      ],
      "metadata": {
        "colab": {
          "base_uri": "https://localhost:8080/"
        },
        "id": "hL9q-B7SrZkM",
        "outputId": "dfeddb15-9a85-4994-d75d-81f0495c7d23"
      },
      "execution_count": null,
      "outputs": [
        {
          "output_type": "stream",
          "name": "stdout",
          "text": [
            "Cadastrar usuário? (S/N) S\n",
            "Informe seu nome: Gabriel\n",
            "Informe a sua idade: 22\n",
            "Informe o seu sexo: M\n",
            "\n",
            "Deseja cadastrar um novo usuário? (S/N) S\n",
            "Informe seu nome: João\n",
            "Informe a sua idade: 25\n",
            "Informe o seu sexo: Masculino\n",
            "\n",
            "Deseja cadastrar um novo usuário? (S/N) S\n",
            "Informe seu nome: Maria\n",
            "Informe a sua idade: 10\n",
            "Informe o seu sexo: Feminino\n",
            "\n",
            "Deseja cadastrar um novo usuário? (S/N) S\n",
            "Informe seu nome: Mariana\n",
            "Informe a sua idade: 15\n",
            "Informe o seu sexo: F\n",
            "\n",
            "Deseja cadastrar um novo usuário? (S/N) S\n",
            "Informe seu nome: Maria Luiza\n",
            "Informe a sua idade: 28\n",
            "Informe o seu sexo: F\n",
            "\n",
            "Deseja cadastrar um novo usuário? (S/N) N\n",
            "Cadastro finalizado!\n",
            "[['Gabriel', 22, 'M'], ['João', 25, 'Masculino'], ['Maria', 10, 'Feminino'], ['Mariana', 15, 'F'], ['Maria Luiza', 28, 'F']]\n"
          ]
        }
      ]
    },
    {
      "cell_type": "code",
      "source": [
        "soma_masc = []\n",
        "soma_fem = []\n",
        "porcentagem_homem = 0\n",
        "porcentagem_mulher = 0"
      ],
      "metadata": {
        "id": "CA6u8IP4RB1g"
      },
      "execution_count": null,
      "outputs": []
    },
    {
      "cell_type": "code",
      "source": [
        "for element in cadastro:\n",
        "  for subelement in element:\n",
        "    if subelement == \"M\" or subelement == \"Masculino\":\n",
        "      soma_masc.append(element)\n",
        "    elif subelement == \"F\" or subelement == \"Feminino\":\n",
        "      soma_fem.append(element)"
      ],
      "metadata": {
        "id": "YPa7y2qXD0YN"
      },
      "execution_count": null,
      "outputs": []
    },
    {
      "cell_type": "code",
      "source": [
        "print(len(soma_masc))\n",
        "print(len(soma_fem))\n",
        "print(len(cadastro))"
      ],
      "metadata": {
        "colab": {
          "base_uri": "https://localhost:8080/"
        },
        "id": "yIM0AL2qSl76",
        "outputId": "dfe24d2d-1e13-4ee5-a1f2-a449a01cd677"
      },
      "execution_count": null,
      "outputs": [
        {
          "output_type": "stream",
          "name": "stdout",
          "text": [
            "2\n",
            "3\n",
            "5\n"
          ]
        }
      ]
    },
    {
      "cell_type": "code",
      "source": [
        "porcentagem_homem = (len(soma_masc) / len(cadastro)) * 100\n",
        "porcentagem_mulher = (len(soma_fem) / len(cadastro)) * 100\n",
        "\n",
        "print(\"O percentual de homens é {:.2f}%\".format(porcentagem_homem))\n",
        "print(\"O percentual de mulheres é {:.2f}%\".format(porcentagem_mulher))"
      ],
      "metadata": {
        "colab": {
          "base_uri": "https://localhost:8080/"
        },
        "id": "c_uyEPqXSVD3",
        "outputId": "6f07bcc4-f6da-420e-fc0b-af94d2f5454e"
      },
      "execution_count": null,
      "outputs": [
        {
          "output_type": "stream",
          "name": "stdout",
          "text": [
            "O percentual de homens é 40.00%\n",
            "O percentual de mulheres é 60.00%\n"
          ]
        }
      ]
    },
    {
      "cell_type": "markdown",
      "source": [
        "Imprima todos os valores da sequência de fibonacci inferiores a 100."
      ],
      "metadata": {
        "id": "dqk3URsXrZ6o"
      }
    },
    {
      "cell_type": "code",
      "source": [
        "anterior = 0\n",
        "proximo = 0\n",
        "\n",
        "while(proximo < 100):\n",
        "  print(proximo)\n",
        "  proximo += anterior\n",
        "  anterior = proximo - anterior\n",
        "\n",
        "  if(proximo == 0):\n",
        "    proximo = proximo + 1"
      ],
      "metadata": {
        "colab": {
          "base_uri": "https://localhost:8080/"
        },
        "id": "pcnGAwizVSXq",
        "outputId": "c562fba1-b6f3-4de8-9c27-cd0b32e2fc44"
      },
      "execution_count": null,
      "outputs": [
        {
          "output_type": "stream",
          "name": "stdout",
          "text": [
            "0\n",
            "1\n",
            "1\n",
            "2\n",
            "3\n",
            "5\n",
            "8\n",
            "13\n",
            "21\n",
            "34\n",
            "55\n",
            "89\n"
          ]
        }
      ]
    },
    {
      "cell_type": "markdown",
      "source": [
        "### Exercício 9"
      ],
      "metadata": {
        "id": "-sHwtSbfrcHr"
      }
    },
    {
      "cell_type": "markdown",
      "source": [
        "Utilizando list comprehension escreva um algoritmo receba a frase “três pratos de trigo para três tigres tristes” e gere uma lista com todas as palavras que não começam com a letra t."
      ],
      "metadata": {
        "id": "7GcEiWVXrdjH"
      }
    },
    {
      "cell_type": "code",
      "source": [
        "frase3 = \"três pratos de trigo para três tigres tristes\"\n",
        "\n",
        "lista4 = [palavra for palavra in frase3.split() if palavra[0] != \"t\"]\n",
        "\n",
        "print(lista4)"
      ],
      "metadata": {
        "id": "ih8RO9C3rkdT",
        "colab": {
          "base_uri": "https://localhost:8080/"
        },
        "outputId": "5fa6a282-d1e4-43a4-f833-1c2fa479a01c"
      },
      "execution_count": null,
      "outputs": [
        {
          "output_type": "stream",
          "name": "stdout",
          "text": [
            "['pratos', 'de', 'para']\n"
          ]
        }
      ]
    },
    {
      "cell_type": "markdown",
      "source": [
        "Utilizando list comprehension, escreva um algoritmo que transforme a lista [34.6, -203.4, 44.9, 68.3, -12.2, 44.6, 12.7] em uma lista de inteiros positivos."
      ],
      "metadata": {
        "id": "1KJwTTc1rkve"
      }
    },
    {
      "cell_type": "code",
      "source": [
        "lista5 = [34.6, -203.4, 44.9, 68.3, -12.2, 44.6, 12.7]"
      ],
      "metadata": {
        "id": "aEhSj7lkrleT"
      },
      "execution_count": null,
      "outputs": []
    },
    {
      "cell_type": "code",
      "source": [
        "convert_to_integer_and_positive = [int(-x) if x < 0 else int(x) for x in lista5]\n",
        "print(convert_to_integer_and_positive)"
      ],
      "metadata": {
        "colab": {
          "base_uri": "https://localhost:8080/"
        },
        "id": "HC4VlbYhaWlk",
        "outputId": "7b58ce62-a1dc-4a67-e47e-acc6718ef377"
      },
      "execution_count": null,
      "outputs": [
        {
          "output_type": "stream",
          "name": "stdout",
          "text": [
            "[34, 203, 44, 68, 12, 44, 12]\n"
          ]
        }
      ]
    },
    {
      "cell_type": "markdown",
      "source": [
        "### Exercício 10"
      ],
      "metadata": {
        "id": "LMWtmbC1rmz6"
      }
    },
    {
      "cell_type": "markdown",
      "source": [
        "Dada a função y = 5x + 2, determine os valores de y para x entre -10 e 10, onde x é inteiro."
      ],
      "metadata": {
        "id": "meg9zNKkrpDw"
      }
    },
    {
      "cell_type": "code",
      "source": [
        "def values_for_y():\n",
        "  x = -10\n",
        "\n",
        "  while x >= -10 and x <= 10:\n",
        "    y = 5 * x + 2\n",
        "    print(\"{} = 5 * {} + 2\".format(y, x))\n",
        "    x += 1\n",
        "\n",
        "values_for_y()"
      ],
      "metadata": {
        "id": "iBI26dmzrobg",
        "colab": {
          "base_uri": "https://localhost:8080/"
        },
        "outputId": "43dddae8-4b3d-4963-fc35-5b8c116511de"
      },
      "execution_count": null,
      "outputs": [
        {
          "output_type": "stream",
          "name": "stdout",
          "text": [
            "-48 = 5 * -10 + 2\n",
            "-43 = 5 * -9 + 2\n",
            "-38 = 5 * -8 + 2\n",
            "-33 = 5 * -7 + 2\n",
            "-28 = 5 * -6 + 2\n",
            "-23 = 5 * -5 + 2\n",
            "-18 = 5 * -4 + 2\n",
            "-13 = 5 * -3 + 2\n",
            "-8 = 5 * -2 + 2\n",
            "-3 = 5 * -1 + 2\n",
            "2 = 5 * 0 + 2\n",
            "7 = 5 * 1 + 2\n",
            "12 = 5 * 2 + 2\n",
            "17 = 5 * 3 + 2\n",
            "22 = 5 * 4 + 2\n",
            "27 = 5 * 5 + 2\n",
            "32 = 5 * 6 + 2\n",
            "37 = 5 * 7 + 2\n",
            "42 = 5 * 8 + 2\n",
            "47 = 5 * 9 + 2\n",
            "52 = 5 * 10 + 2\n"
          ]
        }
      ]
    },
    {
      "cell_type": "markdown",
      "source": [
        "O exercício 7 pediu que fosse feito um programa que, Dada a lista [2, 8, 3, 13, 7, 24, “str”, [1, 2, 11], 8, True], exiba todos os números primos existentes em seu conteúdo em ordem crescente (incluindo a lista interna). \n",
        "\n",
        "Refaça esse exercício utilizando funções. Seu programa deve estar apto a lidar com qualquer  lista que possua elementos de qualquer tipo de dado. Se o elemento da lista for um float, converta-o para inteiro, se for uma lista, inclua seus elementos na verificação, se for outro tipo de dado (como string ou bool), este deverá ser desconsiderado. Lembrem-se que podem existir listas dentro de listas."
      ],
      "metadata": {
        "id": "Ip_ebGsUrreD"
      }
    },
    {
      "cell_type": "code",
      "source": [
        "lista6 = [2, 8, 3, 13, 7, 24, \"str\", [1, 2, 11], 8, True]\n",
        "new_primos = []"
      ],
      "metadata": {
        "id": "YiCFe4bNrtAE"
      },
      "execution_count": null,
      "outputs": []
    },
    {
      "cell_type": "code",
      "source": [
        "def change_float_to_int(lista):\n",
        "  new_list = [int(el) if type(el) == float else el for el in lista]\n",
        "\n",
        "  return new_list\n",
        "\n",
        "def verify_prime(nova_lista):\n",
        "  for el in nova_lista:\n",
        "    if type(el) == int:\n",
        "      if el == 2 or el % 2 != 0 and el % 3 != 0 and el != 1:\n",
        "        new_primos.append(el)\n",
        "\n",
        "    if type(el) == list:\n",
        "      for subel in el:\n",
        "        if subel == 2 or subel % 2 != 0 and subel % 3 != 0 and subel != 1:\n",
        "          new_primos.append(subel)\n",
        "\n",
        "  new_primos.sort()\n",
        "  return new_primos\n",
        "\n",
        "change_float_to_int(lista6)"
      ],
      "metadata": {
        "id": "HbZjhfvPxN1V",
        "colab": {
          "base_uri": "https://localhost:8080/"
        },
        "outputId": "c3e7c3d8-2042-4c6d-8937-b9cb0ec74dc8"
      },
      "execution_count": null,
      "outputs": [
        {
          "output_type": "execute_result",
          "data": {
            "text/plain": [
              "[2, 8, 3, 13, 7, 24, 'str', [1, 2, 11], 8, True]"
            ]
          },
          "metadata": {},
          "execution_count": 202
        }
      ]
    },
    {
      "cell_type": "code",
      "source": [
        "verify_prime(change_float_to_int(lista6))"
      ],
      "metadata": {
        "colab": {
          "base_uri": "https://localhost:8080/"
        },
        "id": "J6V7CwRhTT4L",
        "outputId": "681b6134-8098-43ef-a99b-f081de6886a3"
      },
      "execution_count": null,
      "outputs": [
        {
          "output_type": "execute_result",
          "data": {
            "text/plain": [
              "[2, 2, 7, 11, 13]"
            ]
          },
          "metadata": {},
          "execution_count": 203
        }
      ]
    }
  ]
}